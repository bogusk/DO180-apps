{
 "metadata": {
  "kernelspec": {
   "display_name": "Streamlit Notebook",
   "name": "streamlit"
  }
 },
 "nbformat_minor": 5,
 "nbformat": 4,
 "cells": [
  {
   "cell_type": "code",
   "id": "8d50cbf4-0c8d-4950-86cb-114990437ac9",
   "metadata": {
    "language": "sql",
    "name": "CREATEAPIINT",
    "collapsed": false,
    "resultHeight": 0
   },
   "source": "-- Create the API integration for DORA\nuse role ACCOUNTADMIN;\n\ncreate or replace api integration dora_api_integration \napi_provider = aws_api_gateway \napi_aws_role_arn = 'arn:aws:iam::321463406630:role/snowflakeLearnerAssumedRole' \nenabled = true \napi_allowed_prefixes = ('https://awy6hshxy4.execute-api.us-west-2.amazonaws.com/dev/edu_dora');\n",
   "execution_count": null,
   "outputs": []
  },
  {
   "cell_type": "code",
   "id": "3281a08e-46b4-43ab-a729-1c4c05f6eb30",
   "metadata": {
    "language": "sql",
    "name": "SHOWINT",
    "collapsed": false,
    "resultHeight": 0
   },
   "outputs": [],
   "source": "show integrations;",
   "execution_count": null
  },
  {
   "cell_type": "code",
   "id": "dc6db211-c3e5-4421-835a-fa787d739d23",
   "metadata": {
    "language": "sql",
    "name": "CREATEUTILDB",
    "collapsed": false,
    "resultHeight": 0
   },
   "outputs": [],
   "source": "-- Create the UTIL_DB database (and implicitly the PUBLIC schema\ncreate database if not exists util_db;",
   "execution_count": null
  },
  {
   "cell_type": "code",
   "id": "21050486-406e-4487-8c9d-f91f8658c3af",
   "metadata": {
    "language": "sql",
    "name": "CREATESEGREETING",
    "collapsed": false,
    "resultHeight": 0
   },
   "outputs": [],
   "source": "-- Create SE greeting function\ncreate or replace external function util_db.public.se_greeting(\n      email varchar\n    , firstname varchar\n    , middlename varchar\n    , lastname varchar)\nreturns variant\napi_integration = dora_api_integration\ncontext_headers = (current_timestamp,current_account, current_statement, current_account_name) \nas 'https://awy6hshxy4.execute-api.us-west-2.amazonaws.com/dev/edu_dora/greeting'\n;\n",
   "execution_count": null
  },
  {
   "cell_type": "code",
   "id": "57557782-f533-4f05-a2b3-b6d543e118fb",
   "metadata": {
    "language": "sql",
    "name": "CALLSEGREETING",
    "collapsed": false,
    "resultHeight": 0
   },
   "outputs": [],
   "source": "-- Initialize the link between the SE and the Account - run this once\nuse role ACCOUNTADMIN;\n\n--Please edit the SQL statement to provide your email address (@snowflake.com), first, middle (optional), and last names\n--Remove the angle brackets and put single quotes around each value\n--When entering your names:\n--Use mixed case\n--Don't use ALL CAPITAL LETTERS\n--Don't use all lowercase letters\n--Don't use CamelCase without spaces between your names if you have more than one\n--You must enter both a first and last name, and single letters don't count as names\n--Middle names are optional, so if you don't want to provide one replace <middle name> with ''\n--You can use accents or letters from any language\n--You can use as many words as you want in your name, and please put spaces between them\n\nselect util_db.public.se_greeting('sagar.Kulkarni@snowflake.com', 'sAGar', '', 'KulKarni');",
   "execution_count": null
  },
  {
   "cell_type": "code",
   "id": "c979495d-c226-49b3-ba91-8d6b166e5d89",
   "metadata": {
    "language": "sql",
    "name": "CREATESEGRADER",
    "collapsed": false,
    "resultHeight": 0
   },
   "outputs": [],
   "source": "-- Create the grader\nuse role accountadmin;\n\ncreate or replace external function util_db.public.se_grader(        \n step varchar     \n , passed boolean     \n , actual integer     \n , expected integer    \n , description varchar) \n returns variant \n api_integration = dora_api_integration \n context_headers = (current_timestamp,current_account, current_statement,current_account_name) \n as 'https://awy6hshxy4.execute-api.us-west-2.amazonaws.com/dev/edu_dora/grader'  \n;\n",
   "execution_count": null
  },
  {
   "cell_type": "code",
   "id": "f96b7559-026e-4acd-b245-5a55a3f58052",
   "metadata": {
    "language": "sql",
    "name": "GRANTSEGRADER",
    "collapsed": false,
    "resultHeight": 111
   },
   "outputs": [],
   "source": "grant usage on database util_db to role public;\ngrant usage on schema util_db.public to role public;\ngrant usage on function util_db.public.se_grader(varchar,boolean,integer,integer,varchar) to role public;",
   "execution_count": null
  },
  {
   "cell_type": "code",
   "id": "1a1904e8-a595-419e-b294-3b138e996242",
   "metadata": {
    "language": "sql",
    "name": "TESTSEGRADER",
    "collapsed": false,
    "resultHeight": 0
   },
   "outputs": [],
   "source": "select se_grader(step, (actual = expected), actual, expected, description) as graded_results from (SELECT\n 'DORA_IS_WORKING' as step\n ,( select 123) as actual\n ,123 as expected\n ,'Dora is working!' as description\n);\n\n",
   "execution_count": null
  }
 ]
}